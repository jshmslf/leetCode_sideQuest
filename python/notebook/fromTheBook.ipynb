{
 "cells": [
  {
   "cell_type": "code",
   "execution_count": 18,
   "id": "ce673ddf",
   "metadata": {},
   "outputs": [],
   "source": [
    "def repeater(word, n):\n",
    "    print(word * n,)\n"
   ]
  },
  {
   "cell_type": "code",
   "execution_count": 19,
   "id": "26a6356d",
   "metadata": {},
   "outputs": [
    {
     "name": "stdout",
     "output_type": "stream",
     "text": [
      "SPAM, SPAM, SPAM, SPAM, \n",
      "SPAM, SPAM, SPAM, SPAM, \n"
     ]
    }
   ],
   "source": [
    "def first_two_lines():\n",
    "    repeater('SPAM, ', 4)\n",
    "    repeater('SPAM, ', 4)\n",
    "    \n",
    "first_two_lines()"
   ]
  },
  {
   "cell_type": "code",
   "execution_count": null,
   "id": "1ea2285b",
   "metadata": {},
   "outputs": [
    {
     "name": "stdout",
     "output_type": "stream",
     "text": [
      "Spam, Spam, Spam, Spam, \n",
      "--------\n",
      "Spam, Spam, Spam, Spam, \n"
     ]
    }
   ],
   "source": [
    "def last_three_lines():\n",
    "    repeater('Spam, ', 4)\n",
    "    print('Yahoo!')\n",
    "    repeater('Spam, ', 4)\n",
    "    \n",
    "last_three_lines()"
   ]
  },
  {
   "cell_type": "code",
   "execution_count": 22,
   "id": "d6992f78",
   "metadata": {},
   "outputs": [
    {
     "name": "stdout",
     "output_type": "stream",
     "text": [
      "Verse  0\n",
      "Spam, Spam, Spam, Spam, \n",
      "--------\n",
      "Spam, Spam, Spam, Spam, \n",
      "Verse  1\n",
      "Spam, Spam, Spam, Spam, \n",
      "--------\n",
      "Spam, Spam, Spam, Spam, \n"
     ]
    }
   ],
   "source": [
    "spam = 'Spam, '\n",
    "\n",
    "for i in range(2):\n",
    "    print('Verse ', i)\n",
    "    last_three_lines()"
   ]
  }
 ],
 "metadata": {
  "kernelspec": {
   "display_name": "Python 3",
   "language": "python",
   "name": "python3"
  },
  "language_info": {
   "codemirror_mode": {
    "name": "ipython",
    "version": 3
   },
   "file_extension": ".py",
   "mimetype": "text/x-python",
   "name": "python",
   "nbconvert_exporter": "python",
   "pygments_lexer": "ipython3",
   "version": "3.13.5"
  }
 },
 "nbformat": 4,
 "nbformat_minor": 5
}
